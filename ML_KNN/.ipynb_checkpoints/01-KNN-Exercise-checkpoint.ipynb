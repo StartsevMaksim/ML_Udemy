{
 "cells": [
  {
   "cell_type": "markdown",
   "metadata": {},
   "source": [
    "___\n",
    "\n",
    "<a href='http://www.pieriandata.com'><img src='../Pierian_Data_Logo.png'/></a>\n",
    "___\n",
    "<center><em>Авторские права принадлежат Pierian Data Inc.</em></center>\n",
    "<center><em>Для дополнительной информации посетите наш сайт <a href='http://www.pieriandata.com'>www.pieriandata.com</a></em></center>"
   ]
  },
  {
   "cell_type": "markdown",
   "metadata": {},
   "source": [
    "# Упражнения по методу KNN\n",
    "\n",
    "Метод KNN для классификации достаточно простой, поэтому давайте применим наши знания для создания пайплайна и применения GridSearchCV - их можно будет использовать и для других моделей."
   ]
  },
  {
   "cell_type": "markdown",
   "metadata": {},
   "source": [
    "\n",
    "## Сонарные данные\n",
    "\n",
    "### Определение камня или мины\n",
    "\n",
    "Сонар (ультразвуковой локатор) - это техника использования звука для навигации, коммуникации с объектами и определения объектов на воде или под водой, например морских судов.\n",
    "\n",
    "<img src=\"sonar.jpg\"  style=\"max-height: 500px; max-width: 500px;\">\n",
    "\n",
    "Данный набор данных содержит ответные метрики для 60 различных частот сонара, отправленных на известные объекты - мины и камни. Для каждого отправленного и полученного сигнала были записаны данные об объекте, на который направлялся сонар (мина или камень). \n",
    "\n",
    "<img src=\"mine.jpg\"  style=\"max-height: 500px; max-width: 500px;\">\n",
    "\n",
    "Наша цель - создать модель машинного обучения, которая может определить тип объекта - мина или камень - на основе ответа от сонаров на 60 различных частотах.\n",
    "\n",
    "\n",
    "Источник данных: https://archive.ics.uci.edu/ml/datasets/Connectionist+Bench+(Sonar,+Mines+vs.+Rocks)\n",
    "\n",
    "### Выполните задания, написанные жирным шрифтом\n",
    "\n",
    "**ЗАДАНИЕ: Выполните ячейки ниже, чтобы загрузить данные.**"
   ]
  },
  {
   "cell_type": "code",
   "execution_count": 2,
   "metadata": {},
   "outputs": [],
   "source": [
    "import numpy as np\n",
    "import pandas as pd\n",
    "import seaborn as sns\n",
    "import matplotlib.pyplot as plt\n",
    "from sklearn.model_selection import train_test_split, GridSearchCV\n",
    "from sklearn.preprocessing import StandardScaler\n",
    "from sklearn.neighbors import KNeighborsClassifier\n",
    "from sklearn.pipeline import Pipeline\n",
    "from sklearn.metrics import classification_report, confusion_matrix"
   ]
  },
  {
   "cell_type": "code",
   "execution_count": 3,
   "metadata": {},
   "outputs": [],
   "source": [
    "df = pd.read_csv('../DATA/sonar.all-data.csv')"
   ]
  },
  {
   "cell_type": "code",
   "execution_count": 3,
   "metadata": {},
   "outputs": [
    {
     "data": {
      "text/html": [
       "<div>\n",
       "<style scoped>\n",
       "    .dataframe tbody tr th:only-of-type {\n",
       "        vertical-align: middle;\n",
       "    }\n",
       "\n",
       "    .dataframe tbody tr th {\n",
       "        vertical-align: top;\n",
       "    }\n",
       "\n",
       "    .dataframe thead th {\n",
       "        text-align: right;\n",
       "    }\n",
       "</style>\n",
       "<table border=\"1\" class=\"dataframe\">\n",
       "  <thead>\n",
       "    <tr style=\"text-align: right;\">\n",
       "      <th></th>\n",
       "      <th>Freq_1</th>\n",
       "      <th>Freq_2</th>\n",
       "      <th>Freq_3</th>\n",
       "      <th>Freq_4</th>\n",
       "      <th>Freq_5</th>\n",
       "      <th>Freq_6</th>\n",
       "      <th>Freq_7</th>\n",
       "      <th>Freq_8</th>\n",
       "      <th>Freq_9</th>\n",
       "      <th>Freq_10</th>\n",
       "      <th>...</th>\n",
       "      <th>Freq_52</th>\n",
       "      <th>Freq_53</th>\n",
       "      <th>Freq_54</th>\n",
       "      <th>Freq_55</th>\n",
       "      <th>Freq_56</th>\n",
       "      <th>Freq_57</th>\n",
       "      <th>Freq_58</th>\n",
       "      <th>Freq_59</th>\n",
       "      <th>Freq_60</th>\n",
       "      <th>Label</th>\n",
       "    </tr>\n",
       "  </thead>\n",
       "  <tbody>\n",
       "    <tr>\n",
       "      <th>0</th>\n",
       "      <td>0.0200</td>\n",
       "      <td>0.0371</td>\n",
       "      <td>0.0428</td>\n",
       "      <td>0.0207</td>\n",
       "      <td>0.0954</td>\n",
       "      <td>0.0986</td>\n",
       "      <td>0.1539</td>\n",
       "      <td>0.1601</td>\n",
       "      <td>0.3109</td>\n",
       "      <td>0.2111</td>\n",
       "      <td>...</td>\n",
       "      <td>0.0027</td>\n",
       "      <td>0.0065</td>\n",
       "      <td>0.0159</td>\n",
       "      <td>0.0072</td>\n",
       "      <td>0.0167</td>\n",
       "      <td>0.0180</td>\n",
       "      <td>0.0084</td>\n",
       "      <td>0.0090</td>\n",
       "      <td>0.0032</td>\n",
       "      <td>R</td>\n",
       "    </tr>\n",
       "    <tr>\n",
       "      <th>1</th>\n",
       "      <td>0.0453</td>\n",
       "      <td>0.0523</td>\n",
       "      <td>0.0843</td>\n",
       "      <td>0.0689</td>\n",
       "      <td>0.1183</td>\n",
       "      <td>0.2583</td>\n",
       "      <td>0.2156</td>\n",
       "      <td>0.3481</td>\n",
       "      <td>0.3337</td>\n",
       "      <td>0.2872</td>\n",
       "      <td>...</td>\n",
       "      <td>0.0084</td>\n",
       "      <td>0.0089</td>\n",
       "      <td>0.0048</td>\n",
       "      <td>0.0094</td>\n",
       "      <td>0.0191</td>\n",
       "      <td>0.0140</td>\n",
       "      <td>0.0049</td>\n",
       "      <td>0.0052</td>\n",
       "      <td>0.0044</td>\n",
       "      <td>R</td>\n",
       "    </tr>\n",
       "    <tr>\n",
       "      <th>2</th>\n",
       "      <td>0.0262</td>\n",
       "      <td>0.0582</td>\n",
       "      <td>0.1099</td>\n",
       "      <td>0.1083</td>\n",
       "      <td>0.0974</td>\n",
       "      <td>0.2280</td>\n",
       "      <td>0.2431</td>\n",
       "      <td>0.3771</td>\n",
       "      <td>0.5598</td>\n",
       "      <td>0.6194</td>\n",
       "      <td>...</td>\n",
       "      <td>0.0232</td>\n",
       "      <td>0.0166</td>\n",
       "      <td>0.0095</td>\n",
       "      <td>0.0180</td>\n",
       "      <td>0.0244</td>\n",
       "      <td>0.0316</td>\n",
       "      <td>0.0164</td>\n",
       "      <td>0.0095</td>\n",
       "      <td>0.0078</td>\n",
       "      <td>R</td>\n",
       "    </tr>\n",
       "    <tr>\n",
       "      <th>3</th>\n",
       "      <td>0.0100</td>\n",
       "      <td>0.0171</td>\n",
       "      <td>0.0623</td>\n",
       "      <td>0.0205</td>\n",
       "      <td>0.0205</td>\n",
       "      <td>0.0368</td>\n",
       "      <td>0.1098</td>\n",
       "      <td>0.1276</td>\n",
       "      <td>0.0598</td>\n",
       "      <td>0.1264</td>\n",
       "      <td>...</td>\n",
       "      <td>0.0121</td>\n",
       "      <td>0.0036</td>\n",
       "      <td>0.0150</td>\n",
       "      <td>0.0085</td>\n",
       "      <td>0.0073</td>\n",
       "      <td>0.0050</td>\n",
       "      <td>0.0044</td>\n",
       "      <td>0.0040</td>\n",
       "      <td>0.0117</td>\n",
       "      <td>R</td>\n",
       "    </tr>\n",
       "    <tr>\n",
       "      <th>4</th>\n",
       "      <td>0.0762</td>\n",
       "      <td>0.0666</td>\n",
       "      <td>0.0481</td>\n",
       "      <td>0.0394</td>\n",
       "      <td>0.0590</td>\n",
       "      <td>0.0649</td>\n",
       "      <td>0.1209</td>\n",
       "      <td>0.2467</td>\n",
       "      <td>0.3564</td>\n",
       "      <td>0.4459</td>\n",
       "      <td>...</td>\n",
       "      <td>0.0031</td>\n",
       "      <td>0.0054</td>\n",
       "      <td>0.0105</td>\n",
       "      <td>0.0110</td>\n",
       "      <td>0.0015</td>\n",
       "      <td>0.0072</td>\n",
       "      <td>0.0048</td>\n",
       "      <td>0.0107</td>\n",
       "      <td>0.0094</td>\n",
       "      <td>R</td>\n",
       "    </tr>\n",
       "  </tbody>\n",
       "</table>\n",
       "<p>5 rows × 61 columns</p>\n",
       "</div>"
      ],
      "text/plain": [
       "   Freq_1  Freq_2  Freq_3  Freq_4  Freq_5  Freq_6  Freq_7  Freq_8  Freq_9  \\\n",
       "0  0.0200  0.0371  0.0428  0.0207  0.0954  0.0986  0.1539  0.1601  0.3109   \n",
       "1  0.0453  0.0523  0.0843  0.0689  0.1183  0.2583  0.2156  0.3481  0.3337   \n",
       "2  0.0262  0.0582  0.1099  0.1083  0.0974  0.2280  0.2431  0.3771  0.5598   \n",
       "3  0.0100  0.0171  0.0623  0.0205  0.0205  0.0368  0.1098  0.1276  0.0598   \n",
       "4  0.0762  0.0666  0.0481  0.0394  0.0590  0.0649  0.1209  0.2467  0.3564   \n",
       "\n",
       "   Freq_10  ...  Freq_52  Freq_53  Freq_54  Freq_55  Freq_56  Freq_57  \\\n",
       "0   0.2111  ...   0.0027   0.0065   0.0159   0.0072   0.0167   0.0180   \n",
       "1   0.2872  ...   0.0084   0.0089   0.0048   0.0094   0.0191   0.0140   \n",
       "2   0.6194  ...   0.0232   0.0166   0.0095   0.0180   0.0244   0.0316   \n",
       "3   0.1264  ...   0.0121   0.0036   0.0150   0.0085   0.0073   0.0050   \n",
       "4   0.4459  ...   0.0031   0.0054   0.0105   0.0110   0.0015   0.0072   \n",
       "\n",
       "   Freq_58  Freq_59  Freq_60  Label  \n",
       "0   0.0084   0.0090   0.0032      R  \n",
       "1   0.0049   0.0052   0.0044      R  \n",
       "2   0.0164   0.0095   0.0078      R  \n",
       "3   0.0044   0.0040   0.0117      R  \n",
       "4   0.0048   0.0107   0.0094      R  \n",
       "\n",
       "[5 rows x 61 columns]"
      ]
     },
     "execution_count": 3,
     "metadata": {},
     "output_type": "execute_result"
    }
   ],
   "source": [
    "df.head()"
   ]
  },
  {
   "cell_type": "markdown",
   "metadata": {},
   "source": [
    "## Исследование данных\n",
    "\n",
    "**ЗАДАНИЕ: Нарисуйте тепловую карту heatmap, показывающую корреляцию между откликами на различных частотах.**"
   ]
  },
  {
   "cell_type": "code",
   "execution_count": 10,
   "metadata": {},
   "outputs": [
    {
     "data": {
      "text/plain": [
       "<Axes: >"
      ]
     },
     "execution_count": 10,
     "metadata": {},
     "output_type": "execute_result"
    },
    {
     "data": {
      "image/png": "[encoded data removed]",
      "text/plain": [
       "<Figure size 1200x1000 with 2 Axes>"
      ]
     },
     "metadata": {},
     "output_type": "display_data"
    }
   ],
   "source": [
    "# Напишите Ваш код здесь\n",
    "plt.figure(figsize=(12,10))\n",
    "sns.heatmap(df.drop('Label', axis=1).corr())"
   ]
  },
  {
   "cell_type": "code",
   "execution_count": 98,
   "metadata": {},
   "outputs": [
    {
     "data": {
      "text/plain": [
       "<AxesSubplot:>"
      ]
     },
     "execution_count": 98,
     "metadata": {},
     "output_type": "execute_result"
    },
    {
     "data": {
      "image/png": "[encoded data removed]",
      "text/plain": [
       "<Figure size 576x432 with 2 Axes>"
      ]
     },
     "metadata": {
      "needs_background": "light"
     },
     "output_type": "display_data"
    }
   ],
   "source": []
  },
  {
   "cell_type": "markdown",
   "metadata": {},
   "source": [
    "**ЗАДАНИЕ: Какие 5 частот лучше всего коррелируют с целевой переменной?**\n",
    "\n",
    "*Замечание: Вы можете пометить целевую переменную с помощью значений 0 и 1.*\n",
    "\n",
    "*Замечание 2: мы ищем **абсолютные** значения корреляции.*"
   ]
  },
  {
   "cell_type": "code",
   "execution_count": 4,
   "metadata": {},
   "outputs": [],
   "source": [
    "# Напишите Ваш код здесь\n",
    "#Камни - 0, Мины - 1\n",
    "df['Label'] = df['Label'].map({'R': 0, 'M': 1})"
   ]
  },
  {
   "cell_type": "code",
   "execution_count": 5,
   "metadata": {},
   "outputs": [
    {
     "data": {
      "text/plain": [
       "Label      1.000000\n",
       "Freq_11    0.432855\n",
       "Freq_12    0.392245\n",
       "Freq_49    0.351312\n",
       "Freq_10    0.341142\n",
       "Freq_45    0.339406\n",
       "Name: Label, dtype: float64"
      ]
     },
     "execution_count": 5,
     "metadata": {},
     "output_type": "execute_result"
    }
   ],
   "source": [
    "np.abs(df.corr()['Label']).nlargest(6)"
   ]
  },
  {
   "cell_type": "code",
   "execution_count": 101,
   "metadata": {},
   "outputs": [
    {
     "data": {
      "text/plain": [
       "Freq_45    0.339406\n",
       "Freq_10    0.341142\n",
       "Freq_49    0.351312\n",
       "Freq_12    0.392245\n",
       "Freq_11    0.432855\n",
       "Target     1.000000\n",
       "Name: Target, dtype: float64"
      ]
     },
     "execution_count": 101,
     "metadata": {},
     "output_type": "execute_result"
    }
   ],
   "source": []
  },
  {
   "cell_type": "markdown",
   "metadata": {},
   "source": [
    "## Разбиение на обучающий и тестовый наборы данных\n",
    "\n",
    "Здесь мы будем использовать кросс-валидацию на 90% данных, и затем оценим результаты работы нашей модели на тестовом наборе данных в 10%.\n",
    "\n",
    "**ЗАДАНИЕ: Разделите данные на признаки и целевую переменную, а затем разбейте все данные на обучающий и тестовый наборы данных, в отношении 90% и 10%.**"
   ]
  },
  {
   "cell_type": "code",
   "execution_count": 24,
   "metadata": {},
   "outputs": [],
   "source": [
    "# Напишите Ваш код здесь\n",
    "X = df.drop('Label', axis=1)\n",
    "y = df['Label']"
   ]
  },
  {
   "cell_type": "code",
   "execution_count": 25,
   "metadata": {},
   "outputs": [],
   "source": [
    "X_train, X_test, y_train, y_test = train_test_split(X, y, test_size=0.1, random_state=101)"
   ]
  },
  {
   "cell_type": "code",
   "execution_count": 26,
   "metadata": {},
   "outputs": [],
   "source": [
    "scaler = StandardScaler()"
   ]
  },
  {
   "cell_type": "code",
   "execution_count": 28,
   "metadata": {},
   "outputs": [],
   "source": [
    "model = KNeighborsClassifier()"
   ]
  },
  {
   "cell_type": "markdown",
   "metadata": {},
   "source": [
    "**ЗАДАНИЕ: Создайте объект PipeLine, в котором будет StandardScaler и модель KNN**"
   ]
  },
  {
   "cell_type": "code",
   "execution_count": 32,
   "metadata": {},
   "outputs": [],
   "source": [
    "operations = [('scaler', scaler), ('model', model)]"
   ]
  },
  {
   "cell_type": "code",
   "execution_count": 33,
   "metadata": {},
   "outputs": [],
   "source": [
    "pipe = Pipeline(operations)"
   ]
  },
  {
   "cell_type": "code",
   "execution_count": 108,
   "metadata": {},
   "outputs": [],
   "source": []
  },
  {
   "cell_type": "code",
   "execution_count": 109,
   "metadata": {},
   "outputs": [],
   "source": []
  },
  {
   "cell_type": "code",
   "execution_count": 110,
   "metadata": {},
   "outputs": [],
   "source": []
  },
  {
   "cell_type": "code",
   "execution_count": 111,
   "metadata": {},
   "outputs": [],
   "source": []
  },
  {
   "cell_type": "markdown",
   "metadata": {},
   "source": [
    "**ЗАДАНИЕ: С помощью пайплайна выполните поиск по сетке для различных значений k, и выведите наилучшие параметры.**"
   ]
  },
  {
   "cell_type": "code",
   "execution_count": 47,
   "metadata": {},
   "outputs": [],
   "source": [
    "param_grid = {'model__n_neighbors': list(range(1,30))}"
   ]
  },
  {
   "cell_type": "code",
   "execution_count": 48,
   "metadata": {},
   "outputs": [],
   "source": [
    "grid = GridSearchCV(pipe, param_grid=param_grid, scoring='f1', verbose=2, cv=10)"
   ]
  },
  {
   "cell_type": "code",
   "execution_count": 49,
   "metadata": {},
   "outputs": [
    {
     "name": "stdout",
     "output_type": "stream",
     "text": [
      "Fitting 10 folds for each of 29 candidates, totalling 290 fits\n",
      "[CV] END ...............................model__n_neighbors=1; total time=   0.0s\n",
      "[CV] END ...............................model__n_neighbors=1; total time=   0.0s\n",
      "[CV] END ...............................model__n_neighbors=1; total time=   0.0s\n",
      "[CV] END ...............................model__n_neighbors=1; total time=   0.0s\n",
      "[CV] END ...............................model__n_neighbors=1; total time=   0.0s\n",
      "[CV] END ...............................model__n_neighbors=1; total time=   0.0s\n",
      "[CV] END ...............................model__n_neighbors=1; total time=   0.0s\n",
      "[CV] END ...............................model__n_neighbors=1; total time=   0.0s\n",
      "[CV] END ...............................model__n_neighbors=1; total time=   0.0s\n",
      "[CV] END ...............................model__n_neighbors=1; total time=   0.0s\n",
      "[CV] END ...............................model__n_neighbors=2; total time=   0.0s\n",
      "[CV] END ...............................model__n_neighbors=2; total time=   0.0s\n",
      "[CV] END ...............................model__n_neighbors=2; total time=   0.0s\n",
      "[CV] END ...............................model__n_neighbors=2; total time=   0.0s\n",
      "[CV] END ...............................model__n_neighbors=2; total time=   0.0s\n",
      "[CV] END ...............................model__n_neighbors=2; total time=   0.0s\n",
      "[CV] END ...............................model__n_neighbors=2; total time=   0.0s\n",
      "[CV] END ...............................model__n_neighbors=2; total time=   0.0s\n",
      "[CV] END ...............................model__n_neighbors=2; total time=   0.0s\n",
      "[CV] END ...............................model__n_neighbors=2; total time=   0.0s\n",
      "[CV] END ...............................model__n_neighbors=3; total time=   0.0s\n",
      "[CV] END ...............................model__n_neighbors=3; total time=   0.0s\n",
      "[CV] END ...............................model__n_neighbors=3; total time=   0.0s\n",
      "[CV] END ...............................model__n_neighbors=3; total time=   0.0s\n",
      "[CV] END ...............................model__n_neighbors=3; total time=   0.0s\n",
      "[CV] END ...............................model__n_neighbors=3; total time=   0.0s\n",
      "[CV] END ...............................model__n_neighbors=3; total time=   0.0s\n",
      "[CV] END ...............................model__n_neighbors=3; total time=   0.0s\n",
      "[CV] END ...............................model__n_neighbors=3; total time=   0.0s\n",
      "[CV] END ...............................model__n_neighbors=3; total time=   0.0s\n",
      "[CV] END ...............................model__n_neighbors=4; total time=   0.0s\n",
      "[CV] END ...............................model__n_neighbors=4; total time=   0.0s\n",
      "[CV] END ...............................model__n_neighbors=4; total time=   0.0s\n",
      "[CV] END ...............................model__n_neighbors=4; total time=   0.0s\n",
      "[CV] END ...............................model__n_neighbors=4; total time=   0.0s\n",
      "[CV] END ...............................model__n_neighbors=4; total time=   0.0s\n",
      "[CV] END ...............................model__n_neighbors=4; total time=   0.0s\n",
      "[CV] END ...............................model__n_neighbors=4; total time=   0.0s\n",
      "[CV] END ...............................model__n_neighbors=4; total time=   0.0s\n",
      "[CV] END ...............................model__n_neighbors=4; total time=   0.0s\n",
      "[CV] END ...............................model__n_neighbors=5; total time=   0.0s\n",
      "[CV] END ...............................model__n_neighbors=5; total time=   0.0s\n",
      "[CV] END ...............................model__n_neighbors=5; total time=   0.0s\n",
      "[CV] END ...............................model__n_neighbors=5; total time=   0.0s\n",
      "[CV] END ...............................model__n_neighbors=5; total time=   0.0s\n",
      "[CV] END ...............................model__n_neighbors=5; total time=   0.0s\n",
      "[CV] END ...............................model__n_neighbors=5; total time=   0.0s\n",
      "[CV] END ...............................model__n_neighbors=5; total time=   0.0s\n",
      "[CV] END ...............................model__n_neighbors=5; total time=   0.0s\n",
      "[CV] END ...............................model__n_neighbors=5; total time=   0.0s\n",
      "[CV] END ...............................model__n_neighbors=6; total time=   0.0s\n",
      "[CV] END ...............................model__n_neighbors=6; total time=   0.0s\n",
      "[CV] END ...............................model__n_neighbors=6; total time=   0.0s\n",
      "[CV] END ...............................model__n_neighbors=6; total time=   0.0s\n",
      "[CV] END ...............................model__n_neighbors=6; total time=   0.0s\n",
      "[CV] END ...............................model__n_neighbors=6; total time=   0.0s\n",
      "[CV] END ...............................model__n_neighbors=6; total time=   0.0s\n",
      "[CV] END ...............................model__n_neighbors=6; total time=   0.0s\n",
      "[CV] END ...............................model__n_neighbors=6; total time=   0.0s\n",
      "[CV] END ...............................model__n_neighbors=6; total time=   0.0s\n",
      "[CV] END ...............................model__n_neighbors=7; total time=   0.0s\n",
      "[CV] END ...............................model__n_neighbors=7; total time=   0.0s\n",
      "[CV] END ...............................model__n_neighbors=7; total time=   0.0s\n",
      "[CV] END ...............................model__n_neighbors=7; total time=   0.0s\n",
      "[CV] END ...............................model__n_neighbors=7; total time=   0.0s\n",
      "[CV] END ...............................model__n_neighbors=7; total time=   0.0s\n",
      "[CV] END ...............................model__n_neighbors=7; total time=   0.0s\n",
      "[CV] END ...............................model__n_neighbors=7; total time=   0.0s\n",
      "[CV] END ...............................model__n_neighbors=7; total time=   0.0s\n",
      "[CV] END ...............................model__n_neighbors=7; total time=   0.0s\n",
      "[CV] END ...............................model__n_neighbors=8; total time=   0.0s\n",
      "[CV] END ...............................model__n_neighbors=8; total time=   0.0s\n",
      "[CV] END ...............................model__n_neighbors=8; total time=   0.0s\n",
      "[CV] END ...............................model__n_neighbors=8; total time=   0.0s\n",
      "[CV] END ...............................model__n_neighbors=8; total time=   0.0s\n",
      "[CV] END ...............................model__n_neighbors=8; total time=   0.0s\n",
      "[CV] END ...............................model__n_neighbors=8; total time=   0.0s\n",
      "[CV] END ...............................model__n_neighbors=8; total time=   0.0s\n",
      "[CV] END ...............................model__n_neighbors=8; total time=   0.0s\n",
      "[CV] END ...............................model__n_neighbors=8; total time=   0.0s\n",
      "[CV] END ...............................model__n_neighbors=9; total time=   0.0s\n",
      "[CV] END ...............................model__n_neighbors=9; total time=   0.0s\n",
      "[CV] END ...............................model__n_neighbors=9; total time=   0.0s\n",
      "[CV] END ...............................model__n_neighbors=9; total time=   0.0s\n",
      "[CV] END ...............................model__n_neighbors=9; total time=   0.0s\n",
      "[CV] END ...............................model__n_neighbors=9; total time=   0.0s\n",
      "[CV] END ...............................model__n_neighbors=9; total time=   0.0s\n",
      "[CV] END ...............................model__n_neighbors=9; total time=   0.0s\n",
      "[CV] END ...............................model__n_neighbors=9; total time=   0.0s\n",
      "[CV] END ...............................model__n_neighbors=9; total time=   0.0s\n",
      "[CV] END ..............................model__n_neighbors=10; total time=   0.0s\n",
      "[CV] END ..............................model__n_neighbors=10; total time=   0.0s\n",
      "[CV] END ..............................model__n_neighbors=10; total time=   0.0s\n",
      "[CV] END ..............................model__n_neighbors=10; total time=   0.0s\n",
      "[CV] END ..............................model__n_neighbors=10; total time=   0.0s\n",
      "[CV] END ..............................model__n_neighbors=10; total time=   0.0s\n",
      "[CV] END ..............................model__n_neighbors=10; total time=   0.0s\n",
      "[CV] END ..............................model__n_neighbors=10; total time=   0.0s\n",
      "[CV] END ..............................model__n_neighbors=10; total time=   0.0s\n",
      "[CV] END ..............................model__n_neighbors=10; total time=   0.0s\n",
      "[CV] END ..............................model__n_neighbors=11; total time=   0.0s\n",
      "[CV] END ..............................model__n_neighbors=11; total time=   0.0s\n",
      "[CV] END ..............................model__n_neighbors=11; total time=   0.0s\n",
      "[CV] END ..............................model__n_neighbors=11; total time=   0.0s\n",
      "[CV] END ..............................model__n_neighbors=11; total time=   0.0s\n",
      "[CV] END ..............................model__n_neighbors=11; total time=   0.0s\n",
      "[CV] END ..............................model__n_neighbors=11; total time=   0.0s\n",
      "[CV] END ..............................model__n_neighbors=11; total time=   0.0s\n",
      "[CV] END ..............................model__n_neighbors=11; total time=   0.0s\n",
      "[CV] END ..............................model__n_neighbors=11; total time=   0.0s\n",
      "[CV] END ..............................model__n_neighbors=12; total time=   0.0s\n",
      "[CV] END ..............................model__n_neighbors=12; total time=   0.0s\n",
      "[CV] END ..............................model__n_neighbors=12; total time=   0.0s\n",
      "[CV] END ..............................model__n_neighbors=12; total time=   0.0s\n",
      "[CV] END ..............................model__n_neighbors=12; total time=   0.0s\n",
      "[CV] END ..............................model__n_neighbors=12; total time=   0.0s\n",
      "[CV] END ..............................model__n_neighbors=12; total time=   0.0s\n",
      "[CV] END ..............................model__n_neighbors=12; total time=   0.0s\n",
      "[CV] END ..............................model__n_neighbors=12; total time=   0.0s\n",
      "[CV] END ..............................model__n_neighbors=12; total time=   0.0s\n",
      "[CV] END ..............................model__n_neighbors=13; total time=   0.0s\n",
      "[CV] END ..............................model__n_neighbors=13; total time=   0.0s\n",
      "[CV] END ..............................model__n_neighbors=13; total time=   0.0s\n",
      "[CV] END ..............................model__n_neighbors=13; total time=   0.0s\n",
      "[CV] END ..............................model__n_neighbors=13; total time=   0.0s\n",
      "[CV] END ..............................model__n_neighbors=13; total time=   0.0s\n",
      "[CV] END ..............................model__n_neighbors=13; total time=   0.0s\n",
      "[CV] END ..............................model__n_neighbors=13; total time=   0.0s\n",
      "[CV] END ..............................model__n_neighbors=13; total time=   0.0s\n",
      "[CV] END ..............................model__n_neighbors=13; total time=   0.0s\n",
      "[CV] END ..............................model__n_neighbors=14; total time=   0.0s\n",
      "[CV] END ..............................model__n_neighbors=14; total time=   0.0s\n",
      "[CV] END ..............................model__n_neighbors=14; total time=   0.0s\n",
      "[CV] END ..............................model__n_neighbors=14; total time=   0.0s\n",
      "[CV] END ..............................model__n_neighbors=14; total time=   0.0s\n",
      "[CV] END ..............................model__n_neighbors=14; total time=   0.0s\n",
      "[CV] END ..............................model__n_neighbors=14; total time=   0.0s\n",
      "[CV] END ..............................model__n_neighbors=14; total time=   0.0s\n",
      "[CV] END ..............................model__n_neighbors=14; total time=   0.0s\n",
      "[CV] END ..............................model__n_neighbors=14; total time=   0.0s\n",
      "[CV] END ..............................model__n_neighbors=15; total time=   0.0s\n",
      "[CV] END ..............................model__n_neighbors=15; total time=   0.0s\n",
      "[CV] END ..............................model__n_neighbors=15; total time=   0.0s\n",
      "[CV] END ..............................model__n_neighbors=15; total time=   0.0s\n",
      "[CV] END ..............................model__n_neighbors=15; total time=   0.0s\n",
      "[CV] END ..............................model__n_neighbors=15; total time=   0.0s\n",
      "[CV] END ..............................model__n_neighbors=15; total time=   0.0s\n",
      "[CV] END ..............................model__n_neighbors=15; total time=   0.0s\n",
      "[CV] END ..............................model__n_neighbors=15; total time=   0.0s\n",
      "[CV] END ..............................model__n_neighbors=15; total time=   0.0s\n",
      "[CV] END ..............................model__n_neighbors=16; total time=   0.0s\n",
      "[CV] END ..............................model__n_neighbors=16; total time=   0.0s\n",
      "[CV] END ..............................model__n_neighbors=16; total time=   0.0s\n",
      "[CV] END ..............................model__n_neighbors=16; total time=   0.0s\n",
      "[CV] END ..............................model__n_neighbors=16; total time=   0.0s\n",
      "[CV] END ..............................model__n_neighbors=16; total time=   0.0s\n",
      "[CV] END ..............................model__n_neighbors=16; total time=   0.0s\n",
      "[CV] END ..............................model__n_neighbors=16; total time=   0.0s\n",
      "[CV] END ..............................model__n_neighbors=16; total time=   0.0s\n",
      "[CV] END ..............................model__n_neighbors=16; total time=   0.0s\n",
      "[CV] END ..............................model__n_neighbors=17; total time=   0.0s\n",
      "[CV] END ..............................model__n_neighbors=17; total time=   0.0s\n",
      "[CV] END ..............................model__n_neighbors=17; total time=   0.0s\n",
      "[CV] END ..............................model__n_neighbors=17; total time=   0.0s\n",
      "[CV] END ..............................model__n_neighbors=17; total time=   0.0s\n",
      "[CV] END ..............................model__n_neighbors=17; total time=   0.0s\n",
      "[CV] END ..............................model__n_neighbors=17; total time=   0.0s\n",
      "[CV] END ..............................model__n_neighbors=17; total time=   0.0s\n",
      "[CV] END ..............................model__n_neighbors=17; total time=   0.0s\n",
      "[CV] END ..............................model__n_neighbors=17; total time=   0.0s\n",
      "[CV] END ..............................model__n_neighbors=18; total time=   0.0s\n",
      "[CV] END ..............................model__n_neighbors=18; total time=   0.0s\n",
      "[CV] END ..............................model__n_neighbors=18; total time=   0.0s\n",
      "[CV] END ..............................model__n_neighbors=18; total time=   0.0s\n",
      "[CV] END ..............................model__n_neighbors=18; total time=   0.0s\n",
      "[CV] END ..............................model__n_neighbors=18; total time=   0.0s\n",
      "[CV] END ..............................model__n_neighbors=18; total time=   0.0s\n",
      "[CV] END ..............................model__n_neighbors=18; total time=   0.0s\n",
      "[CV] END ..............................model__n_neighbors=18; total time=   0.0s\n",
      "[CV] END ..............................model__n_neighbors=18; total time=   0.0s\n",
      "[CV] END ..............................model__n_neighbors=19; total time=   0.0s\n",
      "[CV] END ..............................model__n_neighbors=19; total time=   0.0s\n",
      "[CV] END ..............................model__n_neighbors=19; total time=   0.0s\n",
      "[CV] END ..............................model__n_neighbors=19; total time=   0.0s\n",
      "[CV] END ..............................model__n_neighbors=19; total time=   0.0s\n",
      "[CV] END ..............................model__n_neighbors=19; total time=   0.0s\n",
      "[CV] END ..............................model__n_neighbors=19; total time=   0.0s\n",
      "[CV] END ..............................model__n_neighbors=19; total time=   0.0s\n",
      "[CV] END ..............................model__n_neighbors=19; total time=   0.0s\n",
      "[CV] END ..............................model__n_neighbors=19; total time=   0.0s\n",
      "[CV] END ..............................model__n_neighbors=20; total time=   0.0s\n",
      "[CV] END ..............................model__n_neighbors=20; total time=   0.0s\n",
      "[CV] END ..............................model__n_neighbors=20; total time=   0.0s\n",
      "[CV] END ..............................model__n_neighbors=20; total time=   0.0s\n",
      "[CV] END ..............................model__n_neighbors=20; total time=   0.0s\n",
      "[CV] END ..............................model__n_neighbors=20; total time=   0.0s\n",
      "[CV] END ..............................model__n_neighbors=20; total time=   0.0s\n",
      "[CV] END ..............................model__n_neighbors=20; total time=   0.0s\n",
      "[CV] END ..............................model__n_neighbors=20; total time=   0.0s\n",
      "[CV] END ..............................model__n_neighbors=20; total time=   0.0s\n",
      "[CV] END ..............................model__n_neighbors=21; total time=   0.0s\n",
      "[CV] END ..............................model__n_neighbors=21; total time=   0.0s\n",
      "[CV] END ..............................model__n_neighbors=21; total time=   0.0s\n",
      "[CV] END ..............................model__n_neighbors=21; total time=   0.0s\n",
      "[CV] END ..............................model__n_neighbors=21; total time=   0.0s\n",
      "[CV] END ..............................model__n_neighbors=21; total time=   0.0s\n",
      "[CV] END ..............................model__n_neighbors=21; total time=   0.0s\n",
      "[CV] END ..............................model__n_neighbors=21; total time=   0.0s\n",
      "[CV] END ..............................model__n_neighbors=21; total time=   0.0s\n",
      "[CV] END ..............................model__n_neighbors=21; total time=   0.0s\n",
      "[CV] END ..............................model__n_neighbors=22; total time=   0.0s\n",
      "[CV] END ..............................model__n_neighbors=22; total time=   0.0s\n",
      "[CV] END ..............................model__n_neighbors=22; total time=   0.0s\n",
      "[CV] END ..............................model__n_neighbors=22; total time=   0.0s\n",
      "[CV] END ..............................model__n_neighbors=22; total time=   0.0s\n",
      "[CV] END ..............................model__n_neighbors=22; total time=   0.0s\n",
      "[CV] END ..............................model__n_neighbors=22; total time=   0.0s\n",
      "[CV] END ..............................model__n_neighbors=22; total time=   0.0s\n",
      "[CV] END ..............................model__n_neighbors=22; total time=   0.0s\n",
      "[CV] END ..............................model__n_neighbors=22; total time=   0.0s\n",
      "[CV] END ..............................model__n_neighbors=23; total time=   0.0s\n",
      "[CV] END ..............................model__n_neighbors=23; total time=   0.0s\n",
      "[CV] END ..............................model__n_neighbors=23; total time=   0.0s\n",
      "[CV] END ..............................model__n_neighbors=23; total time=   0.0s\n",
      "[CV] END ..............................model__n_neighbors=23; total time=   0.0s\n",
      "[CV] END ..............................model__n_neighbors=23; total time=   0.0s\n",
      "[CV] END ..............................model__n_neighbors=23; total time=   0.0s\n",
      "[CV] END ..............................model__n_neighbors=23; total time=   0.0s\n",
      "[CV] END ..............................model__n_neighbors=23; total time=   0.0s\n",
      "[CV] END ..............................model__n_neighbors=23; total time=   0.0s\n",
      "[CV] END ..............................model__n_neighbors=24; total time=   0.0s\n",
      "[CV] END ..............................model__n_neighbors=24; total time=   0.0s\n",
      "[CV] END ..............................model__n_neighbors=24; total time=   0.0s\n",
      "[CV] END ..............................model__n_neighbors=24; total time=   0.0s\n",
      "[CV] END ..............................model__n_neighbors=24; total time=   0.0s\n",
      "[CV] END ..............................model__n_neighbors=24; total time=   0.0s\n",
      "[CV] END ..............................model__n_neighbors=24; total time=   0.0s\n",
      "[CV] END ..............................model__n_neighbors=24; total time=   0.0s\n",
      "[CV] END ..............................model__n_neighbors=24; total time=   0.0s\n",
      "[CV] END ..............................model__n_neighbors=24; total time=   0.0s\n",
      "[CV] END ..............................model__n_neighbors=25; total time=   0.0s\n",
      "[CV] END ..............................model__n_neighbors=25; total time=   0.0s\n",
      "[CV] END ..............................model__n_neighbors=25; total time=   0.0s\n",
      "[CV] END ..............................model__n_neighbors=25; total time=   0.0s\n",
      "[CV] END ..............................model__n_neighbors=25; total time=   0.0s\n",
      "[CV] END ..............................model__n_neighbors=25; total time=   0.0s\n",
      "[CV] END ..............................model__n_neighbors=25; total time=   0.0s\n",
      "[CV] END ..............................model__n_neighbors=25; total time=   0.0s\n",
      "[CV] END ..............................model__n_neighbors=25; total time=   0.0s\n",
      "[CV] END ..............................model__n_neighbors=25; total time=   0.0s\n",
      "[CV] END ..............................model__n_neighbors=26; total time=   0.0s\n",
      "[CV] END ..............................model__n_neighbors=26; total time=   0.0s\n",
      "[CV] END ..............................model__n_neighbors=26; total time=   0.0s\n",
      "[CV] END ..............................model__n_neighbors=26; total time=   0.0s\n",
      "[CV] END ..............................model__n_neighbors=26; total time=   0.0s\n",
      "[CV] END ..............................model__n_neighbors=26; total time=   0.0s\n",
      "[CV] END ..............................model__n_neighbors=26; total time=   0.0s\n",
      "[CV] END ..............................model__n_neighbors=26; total time=   0.0s\n",
      "[CV] END ..............................model__n_neighbors=26; total time=   0.0s\n",
      "[CV] END ..............................model__n_neighbors=26; total time=   0.0s\n",
      "[CV] END ..............................model__n_neighbors=27; total time=   0.0s\n",
      "[CV] END ..............................model__n_neighbors=27; total time=   0.0s\n",
      "[CV] END ..............................model__n_neighbors=27; total time=   0.0s\n",
      "[CV] END ..............................model__n_neighbors=27; total time=   0.0s\n",
      "[CV] END ..............................model__n_neighbors=27; total time=   0.0s\n",
      "[CV] END ..............................model__n_neighbors=27; total time=   0.0s\n",
      "[CV] END ..............................model__n_neighbors=27; total time=   0.0s\n",
      "[CV] END ..............................model__n_neighbors=27; total time=   0.0s\n",
      "[CV] END ..............................model__n_neighbors=27; total time=   0.0s\n",
      "[CV] END ..............................model__n_neighbors=27; total time=   0.0s\n",
      "[CV] END ..............................model__n_neighbors=28; total time=   0.0s\n",
      "[CV] END ..............................model__n_neighbors=28; total time=   0.0s\n",
      "[CV] END ..............................model__n_neighbors=28; total time=   0.0s\n",
      "[CV] END ..............................model__n_neighbors=28; total time=   0.0s\n",
      "[CV] END ..............................model__n_neighbors=28; total time=   0.0s\n",
      "[CV] END ..............................model__n_neighbors=28; total time=   0.0s\n",
      "[CV] END ..............................model__n_neighbors=28; total time=   0.0s\n",
      "[CV] END ..............................model__n_neighbors=28; total time=   0.0s\n",
      "[CV] END ..............................model__n_neighbors=28; total time=   0.0s\n",
      "[CV] END ..............................model__n_neighbors=28; total time=   0.0s\n",
      "[CV] END ..............................model__n_neighbors=29; total time=   0.0s\n",
      "[CV] END ..............................model__n_neighbors=29; total time=   0.0s\n",
      "[CV] END ..............................model__n_neighbors=29; total time=   0.0s\n",
      "[CV] END ..............................model__n_neighbors=29; total time=   0.0s\n",
      "[CV] END ..............................model__n_neighbors=29; total time=   0.0s\n",
      "[CV] END ..............................model__n_neighbors=29; total time=   0.0s\n",
      "[CV] END ..............................model__n_neighbors=29; total time=   0.0s\n",
      "[CV] END ..............................model__n_neighbors=29; total time=   0.0s\n",
      "[CV] END ..............................model__n_neighbors=29; total time=   0.0s\n",
      "[CV] END ..............................model__n_neighbors=29; total time=   0.0s\n"
     ]
    },
    {
     "data": {
      "text/html": [
       "<style>#sk-container-id-2 {\n",
       "  /* Definition of color scheme common for light and dark mode */\n",
       "  --sklearn-color-text: black;\n",
       "  --sklearn-color-line: gray;\n",
       "  /* Definition of color scheme for unfitted estimators */\n",
       "  --sklearn-color-unfitted-level-0: #fff5e6;\n",
       "  --sklearn-color-unfitted-level-1: #f6e4d2;\n",
       "  --sklearn-color-unfitted-level-2: #ffe0b3;\n",
       "  --sklearn-color-unfitted-level-3: chocolate;\n",
       "  /* Definition of color scheme for fitted estimators */\n",
       "  --sklearn-color-fitted-level-0: #f0f8ff;\n",
       "  --sklearn-color-fitted-level-1: #d4ebff;\n",
       "  --sklearn-color-fitted-level-2: #b3dbfd;\n",
       "  --sklearn-color-fitted-level-3: cornflowerblue;\n",
       "\n",
       "  /* Specific color for light theme */\n",
       "  --sklearn-color-text-on-default-background: var(--sg-text-color, var(--theme-code-foreground, var(--jp-content-font-color1, black)));\n",
       "  --sklearn-color-background: var(--sg-background-color, var(--theme-background, var(--jp-layout-color0, white)));\n",
       "  --sklearn-color-border-box: var(--sg-text-color, var(--theme-code-foreground, var(--jp-content-font-color1, black)));\n",
       "  --sklearn-color-icon: #696969;\n",
       "\n",
       "  @media (prefers-color-scheme: dark) {\n",
       "    /* Redefinition of color scheme for dark theme */\n",
       "    --sklearn-color-text-on-default-background: var(--sg-text-color, var(--theme-code-foreground, var(--jp-content-font-color1, white)));\n",
       "    --sklearn-color-background: var(--sg-background-color, var(--theme-background, var(--jp-layout-color0, #111)));\n",
       "    --sklearn-color-border-box: var(--sg-text-color, var(--theme-code-foreground, var(--jp-content-font-color1, white)));\n",
       "    --sklearn-color-icon: #878787;\n",
       "  }\n",
       "}\n",
       "\n",
       "#sk-container-id-2 {\n",
       "  color: var(--sklearn-color-text);\n",
       "}\n",
       "\n",
       "#sk-container-id-2 pre {\n",
       "  padding: 0;\n",
       "}\n",
       "\n",
       "#sk-container-id-2 input.sk-hidden--visually {\n",
       "  border: 0;\n",
       "  clip: rect(1px 1px 1px 1px);\n",
       "  clip: rect(1px, 1px, 1px, 1px);\n",
       "  height: 1px;\n",
       "  margin: -1px;\n",
       "  overflow: hidden;\n",
       "  padding: 0;\n",
       "  position: absolute;\n",
       "  width: 1px;\n",
       "}\n",
       "\n",
       "#sk-container-id-2 div.sk-dashed-wrapped {\n",
       "  border: 1px dashed var(--sklearn-color-line);\n",
       "  margin: 0 0.4em 0.5em 0.4em;\n",
       "  box-sizing: border-box;\n",
       "  padding-bottom: 0.4em;\n",
       "  background-color: var(--sklearn-color-background);\n",
       "}\n",
       "\n",
       "#sk-container-id-2 div.sk-container {\n",
       "  /* jupyter's `normalize.less` sets `[hidden] { display: none; }`\n",
       "     but bootstrap.min.css set `[hidden] { display: none !important; }`\n",
       "     so we also need the `!important` here to be able to override the\n",
       "     default hidden behavior on the sphinx rendered scikit-learn.org.\n",
       "     See: https://github.com/scikit-learn/scikit-learn/issues/21755 */\n",
       "  display: inline-block !important;\n",
       "  position: relative;\n",
       "}\n",
       "\n",
       "#sk-container-id-2 div.sk-text-repr-fallback {\n",
       "  display: none;\n",
       "}\n",
       "\n",
       "div.sk-parallel-item,\n",
       "div.sk-serial,\n",
       "div.sk-item {\n",
       "  /* draw centered vertical line to link estimators */\n",
       "  background-image: linear-gradient(var(--sklearn-color-text-on-default-background), var(--sklearn-color-text-on-default-background));\n",
       "  background-size: 2px 100%;\n",
       "  background-repeat: no-repeat;\n",
       "  background-position: center center;\n",
       "}\n",
       "\n",
       "/* Parallel-specific style estimator block */\n",
       "\n",
       "#sk-container-id-2 div.sk-parallel-item::after {\n",
       "  content: \"\";\n",
       "  width: 100%;\n",
       "  border-bottom: 2px solid var(--sklearn-color-text-on-default-background);\n",
       "  flex-grow: 1;\n",
       "}\n",
       "\n",
       "#sk-container-id-2 div.sk-parallel {\n",
       "  display: flex;\n",
       "  align-items: stretch;\n",
       "  justify-content: center;\n",
       "  background-color: var(--sklearn-color-background);\n",
       "  position: relative;\n",
       "}\n",
       "\n",
       "#sk-container-id-2 div.sk-parallel-item {\n",
       "  display: flex;\n",
       "  flex-direction: column;\n",
       "}\n",
       "\n",
       "#sk-container-id-2 div.sk-parallel-item:first-child::after {\n",
       "  align-self: flex-end;\n",
       "  width: 50%;\n",
       "}\n",
       "\n",
       "#sk-container-id-2 div.sk-parallel-item:last-child::after {\n",
       "  align-self: flex-start;\n",
       "  width: 50%;\n",
       "}\n",
       "\n",
       "#sk-container-id-2 div.sk-parallel-item:only-child::after {\n",
       "  width: 0;\n",
       "}\n",
       "\n",
       "/* Serial-specific style estimator block */\n",
       "\n",
       "#sk-container-id-2 div.sk-serial {\n",
       "  display: flex;\n",
       "  flex-direction: column;\n",
       "  align-items: center;\n",
       "  background-color: var(--sklearn-color-background);\n",
       "  padding-right: 1em;\n",
       "  padding-left: 1em;\n",
       "}\n",
       "\n",
       "\n",
       "/* Toggleable style: style used for estimator/Pipeline/ColumnTransformer box that is\n",
       "clickable and can be expanded/collapsed.\n",
       "- Pipeline and ColumnTransformer use this feature and define the default style\n",
       "- Estimators will overwrite some part of the style using the `sk-estimator` class\n",
       "*/\n",
       "\n",
       "/* Pipeline and ColumnTransformer style (default) */\n",
       "\n",
       "#sk-container-id-2 div.sk-toggleable {\n",
       "  /* Default theme specific background. It is overwritten whether we have a\n",
       "  specific estimator or a Pipeline/ColumnTransformer */\n",
       "  background-color: var(--sklearn-color-background);\n",
       "}\n",
       "\n",
       "/* Toggleable label */\n",
       "#sk-container-id-2 label.sk-toggleable__label {\n",
       "  cursor: pointer;\n",
       "  display: block;\n",
       "  width: 100%;\n",
       "  margin-bottom: 0;\n",
       "  padding: 0.5em;\n",
       "  box-sizing: border-box;\n",
       "  text-align: center;\n",
       "}\n",
       "\n",
       "#sk-container-id-2 label.sk-toggleable__label-arrow:before {\n",
       "  /* Arrow on the left of the label */\n",
       "  content: \"▸\";\n",
       "  float: left;\n",
       "  margin-right: 0.25em;\n",
       "  color: var(--sklearn-color-icon);\n",
       "}\n",
       "\n",
       "#sk-container-id-2 label.sk-toggleable__label-arrow:hover:before {\n",
       "  color: var(--sklearn-color-text);\n",
       "}\n",
       "\n",
       "/* Toggleable content - dropdown */\n",
       "\n",
       "#sk-container-id-2 div.sk-toggleable__content {\n",
       "  max-height: 0;\n",
       "  max-width: 0;\n",
       "  overflow: hidden;\n",
       "  text-align: left;\n",
       "  /* unfitted */\n",
       "  background-color: var(--sklearn-color-unfitted-level-0);\n",
       "}\n",
       "\n",
       "#sk-container-id-2 div.sk-toggleable__content.fitted {\n",
       "  /* fitted */\n",
       "  background-color: var(--sklearn-color-fitted-level-0);\n",
       "}\n",
       "\n",
       "#sk-container-id-2 div.sk-toggleable__content pre {\n",
       "  margin: 0.2em;\n",
       "  border-radius: 0.25em;\n",
       "  color: var(--sklearn-color-text);\n",
       "  /* unfitted */\n",
       "  background-color: var(--sklearn-color-unfitted-level-0);\n",
       "}\n",
       "\n",
       "#sk-container-id-2 div.sk-toggleable__content.fitted pre {\n",
       "  /* unfitted */\n",
       "  background-color: var(--sklearn-color-fitted-level-0);\n",
       "}\n",
       "\n",
       "#sk-container-id-2 input.sk-toggleable__control:checked~div.sk-toggleable__content {\n",
       "  /* Expand drop-down */\n",
       "  max-height: 200px;\n",
       "  max-width: 100%;\n",
       "  overflow: auto;\n",
       "}\n",
       "\n",
       "#sk-container-id-2 input.sk-toggleable__control:checked~label.sk-toggleable__label-arrow:before {\n",
       "  content: \"▾\";\n",
       "}\n",
       "\n",
       "/* Pipeline/ColumnTransformer-specific style */\n",
       "\n",
       "#sk-container-id-2 div.sk-label input.sk-toggleable__control:checked~label.sk-toggleable__label {\n",
       "  color: var(--sklearn-color-text);\n",
       "  background-color: var(--sklearn-color-unfitted-level-2);\n",
       "}\n",
       "\n",
       "#sk-container-id-2 div.sk-label.fitted input.sk-toggleable__control:checked~label.sk-toggleable__label {\n",
       "  background-color: var(--sklearn-color-fitted-level-2);\n",
       "}\n",
       "\n",
       "/* Estimator-specific style */\n",
       "\n",
       "/* Colorize estimator box */\n",
       "#sk-container-id-2 div.sk-estimator input.sk-toggleable__control:checked~label.sk-toggleable__label {\n",
       "  /* unfitted */\n",
       "  background-color: var(--sklearn-color-unfitted-level-2);\n",
       "}\n",
       "\n",
       "#sk-container-id-2 div.sk-estimator.fitted input.sk-toggleable__control:checked~label.sk-toggleable__label {\n",
       "  /* fitted */\n",
       "  background-color: var(--sklearn-color-fitted-level-2);\n",
       "}\n",
       "\n",
       "#sk-container-id-2 div.sk-label label.sk-toggleable__label,\n",
       "#sk-container-id-2 div.sk-label label {\n",
       "  /* The background is the default theme color */\n",
       "  color: var(--sklearn-color-text-on-default-background);\n",
       "}\n",
       "\n",
       "/* On hover, darken the color of the background */\n",
       "#sk-container-id-2 div.sk-label:hover label.sk-toggleable__label {\n",
       "  color: var(--sklearn-color-text);\n",
       "  background-color: var(--sklearn-color-unfitted-level-2);\n",
       "}\n",
       "\n",
       "/* Label box, darken color on hover, fitted */\n",
       "#sk-container-id-2 div.sk-label.fitted:hover label.sk-toggleable__label.fitted {\n",
       "  color: var(--sklearn-color-text);\n",
       "  background-color: var(--sklearn-color-fitted-level-2);\n",
       "}\n",
       "\n",
       "/* Estimator label */\n",
       "\n",
       "#sk-container-id-2 div.sk-label label {\n",
       "  font-family: monospace;\n",
       "  font-weight: bold;\n",
       "  display: inline-block;\n",
       "  line-height: 1.2em;\n",
       "}\n",
       "\n",
       "#sk-container-id-2 div.sk-label-container {\n",
       "  text-align: center;\n",
       "}\n",
       "\n",
       "/* Estimator-specific */\n",
       "#sk-container-id-2 div.sk-estimator {\n",
       "  font-family: monospace;\n",
       "  border: 1px dotted var(--sklearn-color-border-box);\n",
       "  border-radius: 0.25em;\n",
       "  box-sizing: border-box;\n",
       "  margin-bottom: 0.5em;\n",
       "  /* unfitted */\n",
       "  background-color: var(--sklearn-color-unfitted-level-0);\n",
       "}\n",
       "\n",
       "#sk-container-id-2 div.sk-estimator.fitted {\n",
       "  /* fitted */\n",
       "  background-color: var(--sklearn-color-fitted-level-0);\n",
       "}\n",
       "\n",
       "/* on hover */\n",
       "#sk-container-id-2 div.sk-estimator:hover {\n",
       "  /* unfitted */\n",
       "  background-color: var(--sklearn-color-unfitted-level-2);\n",
       "}\n",
       "\n",
       "#sk-container-id-2 div.sk-estimator.fitted:hover {\n",
       "  /* fitted */\n",
       "  background-color: var(--sklearn-color-fitted-level-2);\n",
       "}\n",
       "\n",
       "/* Specification for estimator info (e.g. \"i\" and \"?\") */\n",
       "\n",
       "/* Common style for \"i\" and \"?\" */\n",
       "\n",
       ".sk-estimator-doc-link,\n",
       "a:link.sk-estimator-doc-link,\n",
       "a:visited.sk-estimator-doc-link {\n",
       "  float: right;\n",
       "  font-size: smaller;\n",
       "  line-height: 1em;\n",
       "  font-family: monospace;\n",
       "  background-color: var(--sklearn-color-background);\n",
       "  border-radius: 1em;\n",
       "  height: 1em;\n",
       "  width: 1em;\n",
       "  text-decoration: none !important;\n",
       "  margin-left: 1ex;\n",
       "  /* unfitted */\n",
       "  border: var(--sklearn-color-unfitted-level-1) 1pt solid;\n",
       "  color: var(--sklearn-color-unfitted-level-1);\n",
       "}\n",
       "\n",
       ".sk-estimator-doc-link.fitted,\n",
       "a:link.sk-estimator-doc-link.fitted,\n",
       "a:visited.sk-estimator-doc-link.fitted {\n",
       "  /* fitted */\n",
       "  border: var(--sklearn-color-fitted-level-1) 1pt solid;\n",
       "  color: var(--sklearn-color-fitted-level-1);\n",
       "}\n",
       "\n",
       "/* On hover */\n",
       "div.sk-estimator:hover .sk-estimator-doc-link:hover,\n",
       ".sk-estimator-doc-link:hover,\n",
       "div.sk-label-container:hover .sk-estimator-doc-link:hover,\n",
       ".sk-estimator-doc-link:hover {\n",
       "  /* unfitted */\n",
       "  background-color: var(--sklearn-color-unfitted-level-3);\n",
       "  color: var(--sklearn-color-background);\n",
       "  text-decoration: none;\n",
       "}\n",
       "\n",
       "div.sk-estimator.fitted:hover .sk-estimator-doc-link.fitted:hover,\n",
       ".sk-estimator-doc-link.fitted:hover,\n",
       "div.sk-label-container:hover .sk-estimator-doc-link.fitted:hover,\n",
       ".sk-estimator-doc-link.fitted:hover {\n",
       "  /* fitted */\n",
       "  background-color: var(--sklearn-color-fitted-level-3);\n",
       "  color: var(--sklearn-color-background);\n",
       "  text-decoration: none;\n",
       "}\n",
       "\n",
       "/* Span, style for the box shown on hovering the info icon */\n",
       ".sk-estimator-doc-link span {\n",
       "  display: none;\n",
       "  z-index: 9999;\n",
       "  position: relative;\n",
       "  font-weight: normal;\n",
       "  right: .2ex;\n",
       "  padding: .5ex;\n",
       "  margin: .5ex;\n",
       "  width: min-content;\n",
       "  min-width: 20ex;\n",
       "  max-width: 50ex;\n",
       "  color: var(--sklearn-color-text);\n",
       "  box-shadow: 2pt 2pt 4pt #999;\n",
       "  /* unfitted */\n",
       "  background: var(--sklearn-color-unfitted-level-0);\n",
       "  border: .5pt solid var(--sklearn-color-unfitted-level-3);\n",
       "}\n",
       "\n",
       ".sk-estimator-doc-link.fitted span {\n",
       "  /* fitted */\n",
       "  background: var(--sklearn-color-fitted-level-0);\n",
       "  border: var(--sklearn-color-fitted-level-3);\n",
       "}\n",
       "\n",
       ".sk-estimator-doc-link:hover span {\n",
       "  display: block;\n",
       "}\n",
       "\n",
       "/* \"?\"-specific style due to the `<a>` HTML tag */\n",
       "\n",
       "#sk-container-id-2 a.estimator_doc_link {\n",
       "  float: right;\n",
       "  font-size: 1rem;\n",
       "  line-height: 1em;\n",
       "  font-family: monospace;\n",
       "  background-color: var(--sklearn-color-background);\n",
       "  border-radius: 1rem;\n",
       "  height: 1rem;\n",
       "  width: 1rem;\n",
       "  text-decoration: none;\n",
       "  /* unfitted */\n",
       "  color: var(--sklearn-color-unfitted-level-1);\n",
       "  border: var(--sklearn-color-unfitted-level-1) 1pt solid;\n",
       "}\n",
       "\n",
       "#sk-container-id-2 a.estimator_doc_link.fitted {\n",
       "  /* fitted */\n",
       "  border: var(--sklearn-color-fitted-level-1) 1pt solid;\n",
       "  color: var(--sklearn-color-fitted-level-1);\n",
       "}\n",
       "\n",
       "/* On hover */\n",
       "#sk-container-id-2 a.estimator_doc_link:hover {\n",
       "  /* unfitted */\n",
       "  background-color: var(--sklearn-color-unfitted-level-3);\n",
       "  color: var(--sklearn-color-background);\n",
       "  text-decoration: none;\n",
       "}\n",
       "\n",
       "#sk-container-id-2 a.estimator_doc_link.fitted:hover {\n",
       "  /* fitted */\n",
       "  background-color: var(--sklearn-color-fitted-level-3);\n",
       "}\n",
       "</style><div id=\"sk-container-id-2\" class=\"sk-top-container\"><div class=\"sk-text-repr-fallback\"><pre>GridSearchCV(cv=10,\n",
       "             estimator=Pipeline(steps=[(&#x27;scaler&#x27;, StandardScaler()),\n",
       "                                       (&#x27;model&#x27;, KNeighborsClassifier())]),\n",
       "             param_grid={&#x27;model__n_neighbors&#x27;: [1, 2, 3, 4, 5, 6, 7, 8, 9, 10,\n",
       "                                                11, 12, 13, 14, 15, 16, 17, 18,\n",
       "                                                19, 20, 21, 22, 23, 24, 25, 26,\n",
       "                                                27, 28, 29]},\n",
       "             scoring=&#x27;f1&#x27;, verbose=2)</pre><b>In a Jupyter environment, please rerun this cell to show the HTML representation or trust the notebook. <br />On GitHub, the HTML representation is unable to render, please try loading this page with nbviewer.org.</b></div><div class=\"sk-container\" hidden><div class=\"sk-item sk-dashed-wrapped\"><div class=\"sk-label-container\"><div class=\"sk-label fitted sk-toggleable\"><input class=\"sk-toggleable__control sk-hidden--visually\" id=\"sk-estimator-id-5\" type=\"checkbox\" ><label for=\"sk-estimator-id-5\" class=\"sk-toggleable__label fitted sk-toggleable__label-arrow fitted\">&nbsp;&nbsp;GridSearchCV<a class=\"sk-estimator-doc-link fitted\" rel=\"noreferrer\" target=\"_blank\" href=\"https://scikit-learn.org/1.4/modules/generated/sklearn.model_selection.GridSearchCV.html\">?<span>Documentation for GridSearchCV</span></a><span class=\"sk-estimator-doc-link fitted\">i<span>Fitted</span></span></label><div class=\"sk-toggleable__content fitted\"><pre>GridSearchCV(cv=10,\n",
       "             estimator=Pipeline(steps=[(&#x27;scaler&#x27;, StandardScaler()),\n",
       "                                       (&#x27;model&#x27;, KNeighborsClassifier())]),\n",
       "             param_grid={&#x27;model__n_neighbors&#x27;: [1, 2, 3, 4, 5, 6, 7, 8, 9, 10,\n",
       "                                                11, 12, 13, 14, 15, 16, 17, 18,\n",
       "                                                19, 20, 21, 22, 23, 24, 25, 26,\n",
       "                                                27, 28, 29]},\n",
       "             scoring=&#x27;f1&#x27;, verbose=2)</pre></div> </div></div><div class=\"sk-parallel\"><div class=\"sk-parallel-item\"><div class=\"sk-item\"><div class=\"sk-label-container\"><div class=\"sk-label fitted sk-toggleable\"><input class=\"sk-toggleable__control sk-hidden--visually\" id=\"sk-estimator-id-6\" type=\"checkbox\" ><label for=\"sk-estimator-id-6\" class=\"sk-toggleable__label fitted sk-toggleable__label-arrow fitted\">estimator: Pipeline</label><div class=\"sk-toggleable__content fitted\"><pre>Pipeline(steps=[(&#x27;scaler&#x27;, StandardScaler()),\n",
       "                (&#x27;model&#x27;, KNeighborsClassifier())])</pre></div> </div></div><div class=\"sk-serial\"><div class=\"sk-item\"><div class=\"sk-serial\"><div class=\"sk-item\"><div class=\"sk-estimator fitted sk-toggleable\"><input class=\"sk-toggleable__control sk-hidden--visually\" id=\"sk-estimator-id-7\" type=\"checkbox\" ><label for=\"sk-estimator-id-7\" class=\"sk-toggleable__label fitted sk-toggleable__label-arrow fitted\">&nbsp;StandardScaler<a class=\"sk-estimator-doc-link fitted\" rel=\"noreferrer\" target=\"_blank\" href=\"https://scikit-learn.org/1.4/modules/generated/sklearn.preprocessing.StandardScaler.html\">?<span>Documentation for StandardScaler</span></a></label><div class=\"sk-toggleable__content fitted\"><pre>StandardScaler()</pre></div> </div></div><div class=\"sk-item\"><div class=\"sk-estimator fitted sk-toggleable\"><input class=\"sk-toggleable__control sk-hidden--visually\" id=\"sk-estimator-id-8\" type=\"checkbox\" ><label for=\"sk-estimator-id-8\" class=\"sk-toggleable__label fitted sk-toggleable__label-arrow fitted\">&nbsp;KNeighborsClassifier<a class=\"sk-estimator-doc-link fitted\" rel=\"noreferrer\" target=\"_blank\" href=\"https://scikit-learn.org/1.4/modules/generated/sklearn.neighbors.KNeighborsClassifier.html\">?<span>Documentation for KNeighborsClassifier</span></a></label><div class=\"sk-toggleable__content fitted\"><pre>KNeighborsClassifier()</pre></div> </div></div></div></div></div></div></div></div></div></div></div>"
      ],
      "text/plain": [
       "GridSearchCV(cv=10,\n",
       "             estimator=Pipeline(steps=[('scaler', StandardScaler()),\n",
       "                                       ('model', KNeighborsClassifier())]),\n",
       "             param_grid={'model__n_neighbors': [1, 2, 3, 4, 5, 6, 7, 8, 9, 10,\n",
       "                                                11, 12, 13, 14, 15, 16, 17, 18,\n",
       "                                                19, 20, 21, 22, 23, 24, 25, 26,\n",
       "                                                27, 28, 29]},\n",
       "             scoring='f1', verbose=2)"
      ]
     },
     "execution_count": 49,
     "metadata": {},
     "output_type": "execute_result"
    }
   ],
   "source": [
    "grid.fit(X_train, y_train)"
   ]
  },
  {
   "cell_type": "code",
   "execution_count": 81,
   "metadata": {},
   "outputs": [],
   "source": []
  },
  {
   "cell_type": "code",
   "execution_count": 82,
   "metadata": {},
   "outputs": [
    {
     "data": {
      "text/plain": [
       "GridSearchCV(cv=5,\n",
       "             estimator=Pipeline(steps=[('scaler', StandardScaler()),\n",
       "                                       ('knn', KNeighborsClassifier())]),\n",
       "             param_grid={'knn__n_neighbors': [1, 2, 3, 4, 5, 6, 7, 8, 9, 10, 11,\n",
       "                                              12, 13, 14, 15, 16, 17, 18, 19,\n",
       "                                              20, 21, 22, 23, 24, 25, 26, 27,\n",
       "                                              28, 29]},\n",
       "             scoring='accuracy')"
      ]
     },
     "execution_count": 82,
     "metadata": {},
     "output_type": "execute_result"
    }
   ],
   "source": []
  },
  {
   "cell_type": "code",
   "execution_count": 50,
   "metadata": {},
   "outputs": [
    {
     "data": {
      "text/plain": [
       "{'memory': None,\n",
       " 'steps': [('scaler', StandardScaler()),\n",
       "  ('model', KNeighborsClassifier(n_neighbors=3))],\n",
       " 'verbose': False,\n",
       " 'scaler': StandardScaler(),\n",
       " 'model': KNeighborsClassifier(n_neighbors=3),\n",
       " 'scaler__copy': True,\n",
       " 'scaler__with_mean': True,\n",
       " 'scaler__with_std': True,\n",
       " 'model__algorithm': 'auto',\n",
       " 'model__leaf_size': 30,\n",
       " 'model__metric': 'minkowski',\n",
       " 'model__metric_params': None,\n",
       " 'model__n_jobs': None,\n",
       " 'model__n_neighbors': 3,\n",
       " 'model__p': 2,\n",
       " 'model__weights': 'uniform'}"
      ]
     },
     "execution_count": 50,
     "metadata": {},
     "output_type": "execute_result"
    }
   ],
   "source": [
    "grid.best_estimator_.get_params()"
   ]
  },
  {
   "cell_type": "code",
   "execution_count": 83,
   "metadata": {},
   "outputs": [
    {
     "data": {
      "text/plain": [
       "{'memory': None,\n",
       " 'steps': [('scaler', StandardScaler()),\n",
       "  ('knn', KNeighborsClassifier(n_neighbors=1))],\n",
       " 'verbose': False,\n",
       " 'scaler': StandardScaler(),\n",
       " 'knn': KNeighborsClassifier(n_neighbors=1),\n",
       " 'scaler__copy': True,\n",
       " 'scaler__with_mean': True,\n",
       " 'scaler__with_std': True,\n",
       " 'knn__algorithm': 'auto',\n",
       " 'knn__leaf_size': 30,\n",
       " 'knn__metric': 'minkowski',\n",
       " 'knn__metric_params': None,\n",
       " 'knn__n_jobs': None,\n",
       " 'knn__n_neighbors': 1,\n",
       " 'knn__p': 2,\n",
       " 'knn__weights': 'uniform'}"
      ]
     },
     "execution_count": 83,
     "metadata": {},
     "output_type": "execute_result"
    }
   ],
   "source": []
  },
  {
   "cell_type": "markdown",
   "metadata": {},
   "source": [
    "**(СЛОЖНОЕ) ЗАДАНИЕ: Используя словарь .cv_results_, попробуйте нарисовать график средних тестовых оценок (mean_test_score) для каждого значения K.**"
   ]
  },
  {
   "cell_type": "code",
   "execution_count": 56,
   "metadata": {},
   "outputs": [],
   "source": [
    "# Напишите Ваш код здесь\n",
    "cv_res = grid.cv_results_['mean_test_score']"
   ]
  },
  {
   "cell_type": "code",
   "execution_count": 82,
   "metadata": {},
   "outputs": [
    {
     "data": {
      "text/plain": [
       "<Axes: >"
      ]
     },
     "execution_count": 82,
     "metadata": {},
     "output_type": "execute_result"
    },
    {
     "data": {
      "image/png": "[encoded data removed]",
      "text/plain": [
       "<Figure size 750x600 with 1 Axes>"
      ]
     },
     "metadata": {},
     "output_type": "display_data"
    }
   ],
   "source": [
    "plt.figure(figsize=(5,4), dpi=150)\n",
    "sns.lineplot(x=range(1,30), y=cv_res, marker='o')\n",
    "#Интересно, что при увеличении K, точность падает"
   ]
  },
  {
   "cell_type": "code",
   "execution_count": 63,
   "metadata": {},
   "outputs": [
    {
     "data": {
      "text/plain": [
       "array([0.12768664, 0.13948499, 0.11458874, 0.13840984, 0.16004329,\n",
       "       0.17061012, 0.1774873 , 0.21741703, 0.2136646 , 0.23117636,\n",
       "       0.21173819, 0.2285163 , 0.23465274, 0.23933747, 0.22893553,\n",
       "       0.22972065, 0.24555204, 0.23466573, 0.25190439, 0.24264352,\n",
       "       0.25180294, 0.2420862 , 0.24630698, 0.23749577, 0.23318935,\n",
       "       0.22985601, 0.21857218, 0.22064465, 0.21963279])"
      ]
     },
     "execution_count": 63,
     "metadata": {},
     "output_type": "execute_result"
    }
   ],
   "source": []
  },
  {
   "cell_type": "code",
   "execution_count": 114,
   "metadata": {},
   "outputs": [
    {
     "data": {
      "text/plain": [
       "array([0.84537696, 0.78065434, 0.77524893, 0.75917496, 0.75931721,\n",
       "       0.74822191, 0.75945946, 0.71664296, 0.7113798 , 0.68421053,\n",
       "       0.70042674, 0.68435277, 0.68449502, 0.67908962, 0.69530583,\n",
       "       0.68990043, 0.7113798 , 0.70042674, 0.72204836, 0.67908962,\n",
       "       0.70071124, 0.69530583, 0.69530583, 0.68463727, 0.68477952,\n",
       "       0.67923186, 0.67411095, 0.65775249, 0.6685633 ])"
      ]
     },
     "execution_count": 114,
     "metadata": {},
     "output_type": "execute_result"
    }
   ],
   "source": []
  },
  {
   "cell_type": "code",
   "execution_count": 115,
   "metadata": {},
   "outputs": [
    {
     "data": {
      "text/plain": [
       "Text(0, 0.5, 'Accuracy')"
      ]
     },
     "execution_count": 115,
     "metadata": {},
     "output_type": "execute_result"
    },
    {
     "data": {
      "image/png": "[encoded data removed]",
      "text/plain": [
       "<Figure size 432x288 with 1 Axes>"
      ]
     },
     "metadata": {
      "needs_background": "light"
     },
     "output_type": "display_data"
    }
   ],
   "source": []
  },
  {
   "cell_type": "markdown",
   "metadata": {},
   "source": [
    "### Финальная оценка модели\n",
    "\n",
    "**ЗАДАНИЕ: используя объект grid classifier с предыдущего шага, создайте финальный отчёт \"classification report\" и матрицу \"confusion matrix\".**"
   ]
  },
  {
   "cell_type": "code",
   "execution_count": 52,
   "metadata": {},
   "outputs": [],
   "source": [
    "# Напишите Ваш код здесь\n",
    "y_predict = grid.predict(X_test)"
   ]
  },
  {
   "cell_type": "code",
   "execution_count": 53,
   "metadata": {},
   "outputs": [
    {
     "data": {
      "text/plain": [
       "array([[9, 1],\n",
       "       [2, 9]], dtype=int64)"
      ]
     },
     "execution_count": 53,
     "metadata": {},
     "output_type": "execute_result"
    }
   ],
   "source": [
    "confusion_matrix(y_test, y_predict)"
   ]
  },
  {
   "cell_type": "code",
   "execution_count": 54,
   "metadata": {},
   "outputs": [
    {
     "name": "stdout",
     "output_type": "stream",
     "text": [
      "              precision    recall  f1-score   support\n",
      "\n",
      "           0       0.82      0.90      0.86        10\n",
      "           1       0.90      0.82      0.86        11\n",
      "\n",
      "    accuracy                           0.86        21\n",
      "   macro avg       0.86      0.86      0.86        21\n",
      "weighted avg       0.86      0.86      0.86        21\n",
      "\n"
     ]
    }
   ],
   "source": [
    "print(classification_report(y_test, y_predict))"
   ]
  },
  {
   "cell_type": "code",
   "execution_count": 121,
   "metadata": {},
   "outputs": [
    {
     "data": {
      "text/plain": [
       "array([[12,  1],\n",
       "       [ 1,  7]], dtype=int64)"
      ]
     },
     "execution_count": 121,
     "metadata": {},
     "output_type": "execute_result"
    }
   ],
   "source": []
  },
  {
   "cell_type": "code",
   "execution_count": 122,
   "metadata": {},
   "outputs": [
    {
     "name": "stdout",
     "output_type": "stream",
     "text": [
      "              precision    recall  f1-score   support\n",
      "\n",
      "           M       0.92      0.92      0.92        13\n",
      "           R       0.88      0.88      0.88         8\n",
      "\n",
      "    accuracy                           0.90        21\n",
      "   macro avg       0.90      0.90      0.90        21\n",
      "weighted avg       0.90      0.90      0.90        21\n",
      "\n"
     ]
    }
   ],
   "source": []
  },
  {
   "cell_type": "markdown",
   "metadata": {},
   "source": [
    "### Отличная работа!"
   ]
  },
  {
   "cell_type": "code",
   "execution_count": null,
   "metadata": {},
   "outputs": [],
   "source": []
  }
 ],
 "metadata": {
  "kernelspec": {
   "display_name": "Python 3 (ipykernel)",
   "language": "python",
   "name": "python3"
  },
  "language_info": {
   "codemirror_mode": {
    "name": "ipython",
    "version": 3
   },
   "file_extension": ".py",
   "mimetype": "text/x-python",
   "name": "python",
   "nbconvert_exporter": "python",
   "pygments_lexer": "ipython3",
   "version": "3.12.0"
  }
 },
 "nbformat": 4,
 "nbformat_minor": 4
}
