{
 "cells": [
  {
   "cell_type": "code",
   "execution_count": 246,
   "id": "f280e86e-a3c7-4ea6-b739-3c9dc477377a",
   "metadata": {},
   "outputs": [],
   "source": [
    "import numpy as np\n",
    "import pandas as pd\n",
    "import matplotlib.pyplot as plt\n",
    "import seaborn as sns\n",
    "from sklearn.model_selection import train_test_split, GridSearchCV\n",
    "from sklearn.linear_model import LinearRegression, LogisticRegression, ElasticNet\n",
    "from sklearn.preprocessing import StandardScaler, PolynomialFeatures\n",
    "from sklearn.metrics import mean_squared_error\n",
    "from UserModels import UElasticNet"
   ]
  },
  {
   "cell_type": "code",
   "execution_count": 317,
   "id": "0281812e-ff91-4ca2-882d-29d392b5968c",
   "metadata": {},
   "outputs": [],
   "source": [
    "data_C = pd.DataFrame({'age': [25,30,47,32,43,51,28,33,37,39,29,47,54,51,44,41,58,23,44,37],\n",
    "                       'experience': [1,3,2,5,10,7,5,4,5,8,1,9,5,4,12,6,17,1,9,10],\n",
    "                       'income': [30450,35670,31580,40130,47830,41630,41340,37650,40250,45150,\n",
    "                                  27840,46110,36720,34800,51300,38900,63600,30870,44190,48700]})"
   ]
  },
  {
   "cell_type": "code",
   "execution_count": 318,
   "id": "9fbf53c8-f3dd-4a56-9d79-4493deab32df",
   "metadata": {},
   "outputs": [],
   "source": [
    "X = data_C.drop('income', axis=1)\n",
    "y = data_C['income']"
   ]
  }
 ],
 "metadata": {
  "kernelspec": {
   "display_name": "Python 3 (ipykernel)",
   "language": "python",
   "name": "python3"
  },
  "language_info": {
   "codemirror_mode": {
    "name": "ipython",
    "version": 3
   },
   "file_extension": ".py",
   "mimetype": "text/x-python",
   "name": "python",
   "nbconvert_exporter": "python",
   "pygments_lexer": "ipython3",
   "version": "3.12.0"
  }
 },
 "nbformat": 4,
 "nbformat_minor": 5
}
